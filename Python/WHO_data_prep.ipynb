{
 "cells": [
  {
   "attachments": {},
   "cell_type": "markdown",
   "metadata": {},
   "source": [
    "1. Get all dirs for files"
   ]
  },
  {
   "cell_type": "code",
   "execution_count": 4,
   "metadata": {},
   "outputs": [],
   "source": [
    "import os\n",
    "os.chdir('../Data/WHO Datasets/Unboxed')\n",
    "cwd = os.getcwd()"
   ]
  },
  {
   "cell_type": "code",
   "execution_count": 29,
   "metadata": {},
   "outputs": [
    {
     "data": {
      "text/plain": [
       "['c:\\\\Users\\\\baakh\\\\OneDrive\\\\Documents\\\\GitHub\\\\suicide-research\\\\Data\\\\WHO Datasets\\\\Unboxed\\\\Alcohol Consumtion\\\\Total alcohol consumption per capita_Data.csv',\n",
       " 'c:\\\\Users\\\\baakh\\\\OneDrive\\\\Documents\\\\GitHub\\\\suicide-research\\\\Data\\\\WHO Datasets\\\\Unboxed\\\\Birth rate, crude (per 1,000 people)\\\\Birth rate, crude (per 1,000 people)_Data.csv',\n",
       " 'c:\\\\Users\\\\baakh\\\\OneDrive\\\\Documents\\\\GitHub\\\\suicide-research\\\\Data\\\\WHO Datasets\\\\Unboxed\\\\Control of Corruption Percentile Rank\\\\Control of Corruption Percentile Rank_Data.csv',\n",
       " 'c:\\\\Users\\\\baakh\\\\OneDrive\\\\Documents\\\\GitHub\\\\suicide-research\\\\Data\\\\WHO Datasets\\\\Unboxed\\\\Death rate, crude (per 1,000 people)\\\\Death rate, crude (per 1,000 people)_Data.csv',\n",
       " 'c:\\\\Users\\\\baakh\\\\OneDrive\\\\Documents\\\\GitHub\\\\suicide-research\\\\Data\\\\WHO Datasets\\\\Unboxed\\\\Domestic general government health expenditure per capita (current US$)\\\\Domestic general government health expenditure per capita (current US$)_Data.csv',\n",
       " 'c:\\\\Users\\\\baakh\\\\OneDrive\\\\Documents\\\\GitHub\\\\suicide-research\\\\Data\\\\WHO Datasets\\\\Unboxed\\\\GDP per capita (current US$)\\\\GDP per capita (current US$)_Data.csv',\n",
       " 'c:\\\\Users\\\\baakh\\\\OneDrive\\\\Documents\\\\GitHub\\\\suicide-research\\\\Data\\\\WHO Datasets\\\\Unboxed\\\\Income share held by highest 10%\\\\Income share held by highest 10%_Data.csv',\n",
       " 'c:\\\\Users\\\\baakh\\\\OneDrive\\\\Documents\\\\GitHub\\\\suicide-research\\\\Data\\\\WHO Datasets\\\\Unboxed\\\\Land Surface Temperature ESG\\\\Land Surface Temperature_Data.csv',\n",
       " 'c:\\\\Users\\\\baakh\\\\OneDrive\\\\Documents\\\\GitHub\\\\suicide-research\\\\Data\\\\WHO Datasets\\\\Unboxed\\\\Life Expectancy\\\\Life expectancy at birth(years)_Data.csv',\n",
       " 'c:\\\\Users\\\\baakh\\\\OneDrive\\\\Documents\\\\GitHub\\\\suicide-research\\\\Data\\\\WHO Datasets\\\\Unboxed\\\\Mortality rate attributed to unsafe water, unsafe sanitation and lack of hygiene (per 100,000 population)\\\\Mortality rate attributed to unsafe water, unsaf_Data.csv',\n",
       " 'c:\\\\Users\\\\baakh\\\\OneDrive\\\\Documents\\\\GitHub\\\\suicide-research\\\\Data\\\\WHO Datasets\\\\Unboxed\\\\Social contributions (% of revenue)\\\\Social contributions (% of revenue)_Data.csv',\n",
       " 'c:\\\\Users\\\\baakh\\\\OneDrive\\\\Documents\\\\GitHub\\\\suicide-research\\\\Data\\\\WHO Datasets\\\\Unboxed\\\\Suicide mortality rate (per 100,000 population)\\\\Suicide mortality rate (per 100,000 population)_Data.csv',\n",
       " 'c:\\\\Users\\\\baakh\\\\OneDrive\\\\Documents\\\\GitHub\\\\suicide-research\\\\Data\\\\WHO Datasets\\\\Unboxed\\\\Voice and Accountability Percentile Rank\\\\Voice and Accountability Percentile Rank_Data.csv']"
      ]
     },
     "execution_count": 29,
     "metadata": {},
     "output_type": "execute_result"
    }
   ],
   "source": [
    "# We are having datasets with and without metadata. So let's work only with 'DATA' marked datasets\n",
    "datalist = []\n",
    "for dirpath, dirname, filenames in os.walk(cwd):\n",
    "    for file in filenames:\n",
    "        if file.endswith(\"Data.csv\"):\n",
    "            datalist.append(os.path.join(dirpath, file))\n",
    "datalist"
   ]
  },
  {
   "attachments": {},
   "cell_type": "markdown",
   "metadata": {},
   "source": [
    "2. Check what is in these datasets"
   ]
  },
  {
   "cell_type": "code",
   "execution_count": 59,
   "metadata": {},
   "outputs": [
    {
     "name": "stdout",
     "output_type": "stream",
     "text": [
      "Series Name,Series Code,Country Name,Country Code,1960 [YR1960],1961 [YR1961],1962 [YR1962],1963 [YR1963],1964 [YR1964],1965 [YR1965],1966 [YR1966],1967 [YR1967],1968 [YR1968],1969 [YR1969],1970 [YR1970],1971 [YR1971],1972 [YR1972],1973 [YR1973],1974 [YR1974],1975 [YR1975],1976 [YR1976],1977 [YR1977],1978 [YR1978],1979 [YR1979],1980 [YR1980],1981 [YR1981],1982 [YR1982],1983 [YR1983],1984 [YR1984],1985 [YR1985],1986 [YR1986],1987 [YR1987],1988 [YR1988],1989 [YR1989],1990 [YR1990],1991 [YR1991],1992 [YR1992],1993 [YR1993],1994 [YR1994],1995 [YR1995],1996 [YR1996],1997 [YR1997],1998 [YR1998],1999 [YR1999],2000 [YR2000],2001 [YR2001],2002 [YR2002],2003 [YR2003],2004 [YR2004],2005 [YR2005],2006 [YR2006],2007 [YR2007],2008 [YR2008],2009 [YR2009],2010 [YR2010],2011 [YR2011],2012 [YR2012],2013 [YR2013],2014 [YR2014],2015 [YR2015],2016 [YR2016],2017 [YR2017],2018 [YR2018],2019 [YR2019],2020 [YR2020],2021 [YR2021]\n",
      "\n",
      "\"Birth rate, crude (per 1,000 people)\",SP.DYN.CBRT.IN,Afghanistan,AFG,50.34,50.443,50.57,50.703,50.831,50.872,50.986,51.081,51.148,51.195,51.122,51.163,51.109,51.114,51.135,51.018,50.935,50.921,50.816,50.737,50.482,50.264,50.138,50.139,50.235,50.553,50.728,50.845,50.98,51.162,51.423,51.788,51.948,52.038,52.174,52.073,51.873,51.4,50.88,50.351,49.664,48.979,48.201,47.35,46.33,45.263,44.721,43.858,41.506,41.157,40.602,39.855,40.009,39.601,39.105,38.803,37.936,37.342,36.927,36.466,36.051,..\n",
      "\n"
     ]
    }
   ],
   "source": [
    "with open(datalist[1], mode='r') as f:\n",
    "    print(f.readline())\n",
    "    print(f.readline())"
   ]
  },
  {
   "attachments": {},
   "cell_type": "markdown",
   "metadata": {},
   "source": [
    "- Because all datasets are from WHO we are can use that as a reference for all of them\n",
    "- Some datasets have more than 1 series, so for grouping will be much easier to use Pandas"
   ]
  },
  {
   "attachments": {},
   "cell_type": "markdown",
   "metadata": {},
   "source": [
    "3. Create a list of countries that you're have in any dataset"
   ]
  },
  {
   "cell_type": "code",
   "execution_count": 109,
   "metadata": {},
   "outputs": [
    {
     "name": "stdout",
     "output_type": "stream",
     "text": [
      "Country Code\n",
      "Country Code\n",
      "Country Code\n",
      "Country Code\n",
      "Country Code\n",
      "Country Code\n",
      "Country Code\n",
      "Country Code\n",
      "Country Code\n",
      "Country Code\n",
      "Country Code\n",
      "Country Code\n",
      "Country Code\n"
     ]
    }
   ],
   "source": [
    "# Check if all our Country Code column are on the same place\n",
    "import re\n",
    "\n",
    "for dataset in datalist:\n",
    "    with open(dataset, mode='r') as f:\n",
    "        print(re.split(r'\\s*,(?!\\s)',f.readline())[3])"
   ]
  },
  {
   "cell_type": "code",
   "execution_count": 147,
   "metadata": {},
   "outputs": [
    {
     "data": {
      "text/plain": [
       "275"
      ]
     },
     "execution_count": 147,
     "metadata": {},
     "output_type": "execute_result"
    }
   ],
   "source": [
    "import pandas as pd\n",
    "\n",
    "countries = set()\n",
    "\n",
    "for dataset in datalist:\n",
    "    df = pd.read_csv(dataset)\n",
    "    df.drop(df.loc[df['Series Name'] != df['Series Name'].unique()[0]].index, axis=0, inplace=True)\n",
    "    countries.update(df['Country Code'].tolist())\n",
    "\n",
    "len(countries)"
   ]
  },
  {
   "attachments": {},
   "cell_type": "markdown",
   "metadata": {},
   "source": [
    "4. Create a list of countries that you're have in any dataset"
   ]
  },
  {
   "cell_type": "code",
   "execution_count": 150,
   "metadata": {},
   "outputs": [
    {
     "data": {
      "text/plain": [
       "193"
      ]
     },
     "execution_count": 150,
     "metadata": {},
     "output_type": "execute_result"
    }
   ],
   "source": [
    "country_check = {}\n",
    "for country in countries:\n",
    "    country_check[country] = 'Not'\n",
    "\n",
    "for dataset in datalist:\n",
    "    df = pd.read_csv(dataset)\n",
    "    df.drop(df.loc[df['Series Name'] != df['Series Name'].unique()[0]].index, axis=0, inplace=True)\n",
    "    country_list = df['Country Code'].tolist()\n",
    "\n",
    "    for country in country_list:\n",
    "        if country_check[country] != 'Delete':\n",
    "            country_check[country] = 'Have'\n",
    "    \n",
    "    for country in country_check:\n",
    "        if country_check[country] == 'Not':\n",
    "            country_check[country] = 'Delete'\n",
    "        elif country_check[country] == 'Have':\n",
    "            country_check[country] = 'Not'\n",
    "\n",
    "countries_filtered = set()\n",
    "\n",
    "for country in country_check:\n",
    "    if country_check[country] == 'Not':\n",
    "        countries_filtered.add(country)\n",
    "\n",
    "len(countries_filtered)"
   ]
  }
 ],
 "metadata": {
  "kernelspec": {
   "display_name": "Python 3",
   "language": "python",
   "name": "python3"
  },
  "language_info": {
   "codemirror_mode": {
    "name": "ipython",
    "version": 3
   },
   "file_extension": ".py",
   "mimetype": "text/x-python",
   "name": "python",
   "nbconvert_exporter": "python",
   "pygments_lexer": "ipython3",
   "version": "3.10.10"
  },
  "orig_nbformat": 4
 },
 "nbformat": 4,
 "nbformat_minor": 2
}
