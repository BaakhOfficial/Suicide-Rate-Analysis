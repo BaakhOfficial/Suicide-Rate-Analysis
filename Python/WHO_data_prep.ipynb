{
 "cells": [
  {
   "attachments": {},
   "cell_type": "markdown",
   "metadata": {},
   "source": [
    "# Data preparetion process\n",
    "\n",
    "> Yes, it could be done in less amount of code, but that way it's much easier to read<br>\n",
    "> Also it could be done line by line or even in Spark, but our datasets small enough to use them in Pandas"
   ]
  },
  {
   "attachments": {},
   "cell_type": "markdown",
   "metadata": {},
   "source": [
    "1. Get all dirs for files"
   ]
  },
  {
   "cell_type": "code",
   "execution_count": 1,
   "metadata": {},
   "outputs": [],
   "source": [
    "import os\n",
    "os.chdir('../Data/WHO Datasets/Unboxed')\n",
    "cwd = os.getcwd()"
   ]
  },
  {
   "cell_type": "code",
   "execution_count": null,
   "metadata": {},
   "outputs": [],
   "source": [
    "# We are having datasets with and without metadata. So let's work only with 'DATA' marked datasets\n",
    "datalist = []\n",
    "for dirpath, dirname, filenames in os.walk(cwd):\n",
    "    for file in filenames:\n",
    "        if file.endswith(\"Data.csv\"):\n",
    "            datalist.append(os.path.join(dirpath, file))"
   ]
  },
  {
   "attachments": {},
   "cell_type": "markdown",
   "metadata": {},
   "source": [
    "2. Check what is in these datasets"
   ]
  },
  {
   "cell_type": "code",
   "execution_count": 3,
   "metadata": {},
   "outputs": [
    {
     "name": "stdout",
     "output_type": "stream",
     "text": [
      "Series Name,Series Code,Country Name,Country Code,1960 [YR1960],1961 [YR1961],1962 [YR1962],1963 [YR1963],1964 [YR1964],1965 [YR1965],1966 [YR1966],1967 [YR1967],1968 [YR1968],1969 [YR1969],1970 [YR1970],1971 [YR1971],1972 [YR1972],1973 [YR1973],1974 [YR1974],1975 [YR1975],1976 [YR1976],1977 [YR1977],1978 [YR1978],1979 [YR1979],1980 [YR1980],1981 [YR1981],1982 [YR1982],1983 [YR1983],1984 [YR1984],1985 [YR1985],1986 [YR1986],1987 [YR1987],1988 [YR1988],1989 [YR1989],1990 [YR1990],1991 [YR1991],1992 [YR1992],1993 [YR1993],1994 [YR1994],1995 [YR1995],1996 [YR1996],1997 [YR1997],1998 [YR1998],1999 [YR1999],2000 [YR2000],2001 [YR2001],2002 [YR2002],2003 [YR2003],2004 [YR2004],2005 [YR2005],2006 [YR2006],2007 [YR2007],2008 [YR2008],2009 [YR2009],2010 [YR2010],2011 [YR2011],2012 [YR2012],2013 [YR2013],2014 [YR2014],2015 [YR2015],2016 [YR2016],2017 [YR2017],2018 [YR2018],2019 [YR2019],2020 [YR2020],2021 [YR2021]\n",
      "\n",
      "\"Birth rate, crude (per 1,000 people)\",SP.DYN.CBRT.IN,Afghanistan,AFG,50.34,50.443,50.57,50.703,50.831,50.872,50.986,51.081,51.148,51.195,51.122,51.163,51.109,51.114,51.135,51.018,50.935,50.921,50.816,50.737,50.482,50.264,50.138,50.139,50.235,50.553,50.728,50.845,50.98,51.162,51.423,51.788,51.948,52.038,52.174,52.073,51.873,51.4,50.88,50.351,49.664,48.979,48.201,47.35,46.33,45.263,44.721,43.858,41.506,41.157,40.602,39.855,40.009,39.601,39.105,38.803,37.936,37.342,36.927,36.466,36.051,..\n",
      "\n"
     ]
    }
   ],
   "source": [
    "with open(datalist[1], mode='r') as f:\n",
    "    print(f.readline())\n",
    "    print(f.readline())"
   ]
  },
  {
   "attachments": {},
   "cell_type": "markdown",
   "metadata": {},
   "source": [
    "- Because all datasets are from WHO we are can use that as a reference for all of them\n",
    "- Some datasets have more than 1 series, so for grouping will be much easier to use Pandas"
   ]
  },
  {
   "attachments": {},
   "cell_type": "markdown",
   "metadata": {},
   "source": [
    "3. Create a list of countries that you're have in any dataset"
   ]
  },
  {
   "cell_type": "code",
   "execution_count": 5,
   "metadata": {},
   "outputs": [
    {
     "data": {
      "text/plain": [
       "275"
      ]
     },
     "execution_count": 5,
     "metadata": {},
     "output_type": "execute_result"
    }
   ],
   "source": [
    "import pandas as pd\n",
    "\n",
    "countries = set()\n",
    "\n",
    "for dataset in datalist:\n",
    "    df = pd.read_csv(dataset)\n",
    "    df.drop(df.loc[df['Series Name'] != df['Series Name'].unique()[0]].index, axis=0, inplace=True)\n",
    "    countries.update(df['Country Code'].tolist())\n",
    "\n",
    "len(countries)"
   ]
  },
  {
   "attachments": {},
   "cell_type": "markdown",
   "metadata": {},
   "source": [
    "4. Create a list of countries that you're have in any dataset"
   ]
  },
  {
   "cell_type": "code",
   "execution_count": 11,
   "metadata": {},
   "outputs": [
    {
     "data": {
      "text/plain": [
       "193"
      ]
     },
     "execution_count": 11,
     "metadata": {},
     "output_type": "execute_result"
    }
   ],
   "source": [
    "country_check = {}\n",
    "for country in countries:\n",
    "    country_check[country] = 'Not'\n",
    "\n",
    "for dataset in datalist:\n",
    "    df = pd.read_csv(dataset)\n",
    "    df.drop(df.loc[df['Series Name'] != df['Series Name'].unique()[0]].index, axis=0, inplace=True)\n",
    "    country_list = df['Country Code'].tolist()\n",
    "\n",
    "    for country in country_list:\n",
    "        if country_check[country] != 'Delete':\n",
    "            country_check[country] = 'Have'\n",
    "    \n",
    "    for country in country_check:\n",
    "        if country_check[country] == 'Not':\n",
    "            country_check[country] = 'Delete'\n",
    "        elif country_check[country] == 'Have':\n",
    "            country_check[country] = 'Not'\n",
    "\n",
    "countries_filtered = set()\n",
    "\n",
    "for country in country_check:\n",
    "    if country_check[country] == 'Not':\n",
    "        countries_filtered.add(country)\n",
    "\n",
    "len(countries_filtered)"
   ]
  },
  {
   "attachments": {},
   "cell_type": "markdown",
   "metadata": {},
   "source": [
    "5. Get names of countries with void lines and delete them from our countries_filtered set"
   ]
  },
  {
   "cell_type": "code",
   "execution_count": 20,
   "metadata": {},
   "outputs": [
    {
     "data": {
      "text/plain": [
       "139"
      ]
     },
     "execution_count": 20,
     "metadata": {},
     "output_type": "execute_result"
    }
   ],
   "source": [
    "country_check = {}\n",
    "\n",
    "for country in countries_filtered:\n",
    "    country_check[country] = True\n",
    "\n",
    "for dataset in datalist:\n",
    "    df = pd.read_csv(dataset, na_values='..')\n",
    "    df.drop(['Series Name','Series Code','Country Name'], axis=1, inplace=True)\n",
    "    idx = list(set(df.index) - set(df.drop('Country Code', axis=1).dropna(how='all').index))\n",
    "    for country in df.iloc[idx]['Country Code'].dropna().to_list():\n",
    "        country_check[country] = False\n",
    "    \n",
    "for country in country_check:\n",
    "    if country_check[country] == False and country in countries_filtered:\n",
    "        countries_filtered.remove(country)\n",
    "\n",
    "len(countries_filtered)"
   ]
  },
  {
   "attachments": {},
   "cell_type": "markdown",
   "metadata": {},
   "source": [
    "6. Choose a period that you're interested in\n",
    "\n",
    "> Based on the fact that each dataset can cover different periods, let's use smallest timespan in our datasets"
   ]
  },
  {
   "cell_type": "code",
   "execution_count": 44,
   "metadata": {},
   "outputs": [
    {
     "name": "stdout",
     "output_type": "stream",
     "text": [
      "Total alcohol consumption per capita (liters of pure alcohol, projected estimates, 15+ years of age) \n",
      " {'2005 [YR2005]', '2018 [YR2018]', '2015 [YR2015]', '2000 [YR2000]', '2010 [YR2010]'}\n",
      "Birth rate, crude (per 1,000 people) \n",
      " {'1965 [YR1965]', '2002 [YR2002]', '1977 [YR1977]', '1978 [YR1978]', '1994 [YR1994]', '2005 [YR2005]', '2006 [YR2006]', '2003 [YR2003]', '2015 [YR2015]', '1991 [YR1991]', '1983 [YR1983]', '1997 [YR1997]', '2009 [YR2009]', '1964 [YR1964]', '1998 [YR1998]', '2010 [YR2010]', '2014 [YR2014]', '2019 [YR2019]', '1975 [YR1975]', '1995 [YR1995]', '1963 [YR1963]', '1987 [YR1987]', '1999 [YR1999]', '1970 [YR1970]', '1960 [YR1960]', '1979 [YR1979]', '1972 [YR1972]', '1980 [YR1980]', '2007 [YR2007]', '2004 [YR2004]', '2013 [YR2013]', '1985 [YR1985]', '1981 [YR1981]', '2018 [YR2018]', '1996 [YR1996]', '1988 [YR1988]', '2020 [YR2020]', '2012 [YR2012]', '1974 [YR1974]', '2011 [YR2011]', '1993 [YR1993]', '2001 [YR2001]', '1967 [YR1967]', '1962 [YR1962]', '2008 [YR2008]', '1969 [YR1969]', '1971 [YR1971]', '1986 [YR1986]', '1982 [YR1982]', '1973 [YR1973]', '1966 [YR1966]', '1984 [YR1984]', '2016 [YR2016]', '1968 [YR1968]', '1989 [YR1989]', '1992 [YR1992]', '1961 [YR1961]', '2000 [YR2000]', '2017 [YR2017]', '1990 [YR1990]', '1976 [YR1976]'}\n",
      "Control of Corruption: Percentile Rank \n",
      " {'2002 [YR2002]', '2005 [YR2005]', '2006 [YR2006]', '2003 [YR2003]', '2015 [YR2015]', '2009 [YR2009]', '1998 [YR1998]', '2014 [YR2014]', '2010 [YR2010]', '2019 [YR2019]', '2007 [YR2007]', '2004 [YR2004]', '2013 [YR2013]', '2018 [YR2018]', '1996 [YR1996]', '2020 [YR2020]', '2012 [YR2012]', '2011 [YR2011]', '2008 [YR2008]', '2016 [YR2016]', '2021 [YR2021]', '2000 [YR2000]', '2017 [YR2017]'}\n",
      "Death rate, crude (per 1,000 people) \n",
      " {'1965 [YR1965]', '2002 [YR2002]', '1977 [YR1977]', '1978 [YR1978]', '1994 [YR1994]', '2005 [YR2005]', '2006 [YR2006]', '2003 [YR2003]', '2015 [YR2015]', '1991 [YR1991]', '1983 [YR1983]', '1997 [YR1997]', '2009 [YR2009]', '1964 [YR1964]', '1998 [YR1998]', '2010 [YR2010]', '2014 [YR2014]', '2019 [YR2019]', '1975 [YR1975]', '1995 [YR1995]', '1963 [YR1963]', '1987 [YR1987]', '1999 [YR1999]', '1970 [YR1970]', '1960 [YR1960]', '1979 [YR1979]', '1972 [YR1972]', '1980 [YR1980]', '2007 [YR2007]', '2004 [YR2004]', '2013 [YR2013]', '1985 [YR1985]', '1981 [YR1981]', '2018 [YR2018]', '1996 [YR1996]', '1988 [YR1988]', '2020 [YR2020]', '2012 [YR2012]', '1974 [YR1974]', '2011 [YR2011]', '1993 [YR1993]', '2001 [YR2001]', '1967 [YR1967]', '1962 [YR1962]', '2008 [YR2008]', '1969 [YR1969]', '1971 [YR1971]', '1986 [YR1986]', '1982 [YR1982]', '1973 [YR1973]', '1966 [YR1966]', '1984 [YR1984]', '2016 [YR2016]', '1968 [YR1968]', '1989 [YR1989]', '1992 [YR1992]', '1961 [YR1961]', '2000 [YR2000]', '2017 [YR2017]', '1990 [YR1990]', '1976 [YR1976]'}\n",
      "Domestic general government health expenditure per capita (current US$) \n",
      " {'2002 [YR2002]', '2005 [YR2005]', '2006 [YR2006]', '2003 [YR2003]', '2015 [YR2015]', '2009 [YR2009]', '2014 [YR2014]', '2010 [YR2010]', '2019 [YR2019]', '2007 [YR2007]', '2004 [YR2004]', '2013 [YR2013]', '2018 [YR2018]', '2012 [YR2012]', '2011 [YR2011]', '2001 [YR2001]', '2008 [YR2008]', '2016 [YR2016]', '2000 [YR2000]', '2017 [YR2017]'}\n",
      "GDP per capita (current US$) \n",
      " {'1965 [YR1965]', '2002 [YR2002]', '1977 [YR1977]', '1978 [YR1978]', '1994 [YR1994]', '2005 [YR2005]', '2006 [YR2006]', '2003 [YR2003]', '2015 [YR2015]', '1991 [YR1991]', '1983 [YR1983]', '1997 [YR1997]', '2009 [YR2009]', '1964 [YR1964]', '1998 [YR1998]', '2010 [YR2010]', '2014 [YR2014]', '2019 [YR2019]', '1975 [YR1975]', '1995 [YR1995]', '1963 [YR1963]', '1987 [YR1987]', '1999 [YR1999]', '1970 [YR1970]', '1960 [YR1960]', '1979 [YR1979]', '1972 [YR1972]', '1980 [YR1980]', '2007 [YR2007]', '2004 [YR2004]', '2013 [YR2013]', '1985 [YR1985]', '1981 [YR1981]', '2018 [YR2018]', '1996 [YR1996]', '1988 [YR1988]', '2020 [YR2020]', '2012 [YR2012]', '1974 [YR1974]', '2011 [YR2011]', '1993 [YR1993]', '2001 [YR2001]', '1967 [YR1967]', '1962 [YR1962]', '2008 [YR2008]', '1969 [YR1969]', '1971 [YR1971]', '1986 [YR1986]', '1982 [YR1982]', '1973 [YR1973]', '1966 [YR1966]', '1984 [YR1984]', '2016 [YR2016]', '2021 [YR2021]', '1968 [YR1968]', '1989 [YR1989]', '1992 [YR1992]', '1961 [YR1961]', '2000 [YR2000]', '2017 [YR2017]', '1990 [YR1990]', '1976 [YR1976]'}\n",
      "Income share held by highest 10% \n",
      " {'2002 [YR2002]', '1977 [YR1977]', '1978 [YR1978]', '1994 [YR1994]', '2005 [YR2005]', '2006 [YR2006]', '2003 [YR2003]', '2015 [YR2015]', '1991 [YR1991]', '1983 [YR1983]', '1997 [YR1997]', '2009 [YR2009]', '1998 [YR1998]', '2010 [YR2010]', '2014 [YR2014]', '2019 [YR2019]', '1975 [YR1975]', '1995 [YR1995]', '1987 [YR1987]', '1999 [YR1999]', '1979 [YR1979]', '1980 [YR1980]', '2007 [YR2007]', '2004 [YR2004]', '2013 [YR2013]', '1985 [YR1985]', '1981 [YR1981]', '2018 [YR2018]', '1996 [YR1996]', '1988 [YR1988]', '2020 [YR2020]', '2012 [YR2012]', '1974 [YR1974]', '2011 [YR2011]', '1993 [YR1993]', '2001 [YR2001]', '1967 [YR1967]', '2008 [YR2008]', '1969 [YR1969]', '1971 [YR1971]', '1986 [YR1986]', '1982 [YR1982]', '1984 [YR1984]', '2016 [YR2016]', '2021 [YR2021]', '1989 [YR1989]', '1992 [YR1992]', '2000 [YR2000]', '2017 [YR2017]', '1990 [YR1990]'}\n",
      "Land Surface Temperature \n",
      " {'2002 [YR2002]', '2005 [YR2005]', '2006 [YR2006]', '2003 [YR2003]', '2015 [YR2015]', '2009 [YR2009]', '2014 [YR2014]', '2010 [YR2010]', '2019 [YR2019]', '2007 [YR2007]', '2004 [YR2004]', '2013 [YR2013]', '2018 [YR2018]', '2020 [YR2020]', '2012 [YR2012]', '2011 [YR2011]', '2001 [YR2001]', '2008 [YR2008]', '2016 [YR2016]', '2021 [YR2021]', '2000 [YR2000]', '2017 [YR2017]'}\n",
      "Life expectancy at birth, female (years) \n",
      " {'1965 [YR1965]', '2002 [YR2002]', '1977 [YR1977]', '1978 [YR1978]', '1994 [YR1994]', '2005 [YR2005]', '2006 [YR2006]', '2003 [YR2003]', '2015 [YR2015]', '1991 [YR1991]', '1983 [YR1983]', '1997 [YR1997]', '2009 [YR2009]', '1964 [YR1964]', '1998 [YR1998]', '2010 [YR2010]', '2014 [YR2014]', '2019 [YR2019]', '1975 [YR1975]', '1995 [YR1995]', '1963 [YR1963]', '1987 [YR1987]', '1999 [YR1999]', '1970 [YR1970]', '1960 [YR1960]', '1979 [YR1979]', '1972 [YR1972]', '1980 [YR1980]', '2007 [YR2007]', '2004 [YR2004]', '2013 [YR2013]', '1985 [YR1985]', '1981 [YR1981]', '2018 [YR2018]', '1996 [YR1996]', '1988 [YR1988]', '2020 [YR2020]', '2012 [YR2012]', '1974 [YR1974]', '2011 [YR2011]', '1993 [YR1993]', '2001 [YR2001]', '1967 [YR1967]', '1962 [YR1962]', '2008 [YR2008]', '1969 [YR1969]', '1971 [YR1971]', '1986 [YR1986]', '1982 [YR1982]', '1973 [YR1973]', '1966 [YR1966]', '1984 [YR1984]', '2016 [YR2016]', '1968 [YR1968]', '1989 [YR1989]', '1992 [YR1992]', '1961 [YR1961]', '2000 [YR2000]', '2017 [YR2017]', '1990 [YR1990]', '1976 [YR1976]'}\n",
      "Mortality rate attributed to unsafe water, unsafe sanitation and lack of hygiene (per 100,000 population) \n",
      " {'2016 [YR2016]'}\n",
      "Social contributions (% of revenue) \n",
      " {'2002 [YR2002]', '1977 [YR1977]', '1978 [YR1978]', '1994 [YR1994]', '2005 [YR2005]', '2006 [YR2006]', '2003 [YR2003]', '2015 [YR2015]', '1991 [YR1991]', '1983 [YR1983]', '1997 [YR1997]', '2009 [YR2009]', '1998 [YR1998]', '2010 [YR2010]', '2014 [YR2014]', '2019 [YR2019]', '1975 [YR1975]', '1995 [YR1995]', '1987 [YR1987]', '1999 [YR1999]', '1979 [YR1979]', '1980 [YR1980]', '1972 [YR1972]', '2007 [YR2007]', '2004 [YR2004]', '2013 [YR2013]', '1985 [YR1985]', '1981 [YR1981]', '2018 [YR2018]', '1996 [YR1996]', '1988 [YR1988]', '2020 [YR2020]', '2012 [YR2012]', '1974 [YR1974]', '2011 [YR2011]', '1993 [YR1993]', '2001 [YR2001]', '2008 [YR2008]', '1986 [YR1986]', '1982 [YR1982]', '1973 [YR1973]', '1984 [YR1984]', '2016 [YR2016]', '1989 [YR1989]', '1992 [YR1992]', '2000 [YR2000]', '2017 [YR2017]', '1990 [YR1990]', '1976 [YR1976]'}\n",
      "Suicide mortality rate (per 100,000 population) \n",
      " {'2002 [YR2002]', '2005 [YR2005]', '2006 [YR2006]', '2003 [YR2003]', '2015 [YR2015]', '2009 [YR2009]', '2014 [YR2014]', '2010 [YR2010]', '2019 [YR2019]', '2007 [YR2007]', '2004 [YR2004]', '2013 [YR2013]', '2018 [YR2018]', '2012 [YR2012]', '2011 [YR2011]', '2001 [YR2001]', '2008 [YR2008]', '2016 [YR2016]', '2000 [YR2000]', '2017 [YR2017]'}\n",
      "Voice and Accountability: Percentile Rank \n",
      " {'2002 [YR2002]', '2005 [YR2005]', '2006 [YR2006]', '2003 [YR2003]', '2015 [YR2015]', '2009 [YR2009]', '1998 [YR1998]', '2014 [YR2014]', '2010 [YR2010]', '2019 [YR2019]', '2007 [YR2007]', '2004 [YR2004]', '2013 [YR2013]', '2018 [YR2018]', '1996 [YR1996]', '2020 [YR2020]', '2012 [YR2012]', '2011 [YR2011]', '2008 [YR2008]', '2016 [YR2016]', '2021 [YR2021]', '2000 [YR2000]', '2017 [YR2017]'}\n"
     ]
    }
   ],
   "source": [
    "period = {}\n",
    "\n",
    "for dataset in datalist:\n",
    "    df = pd.read_csv(dataset, na_values='..')\n",
    "    years = set(df.drop(['Series Name','Series Code','Country Name', 'Country Code'], axis=1).dropna(how='all',axis=1).columns)\n",
    "    print(df['Series Name'][0],'\\n', years)"
   ]
  },
  {
   "attachments": {},
   "cell_type": "markdown",
   "metadata": {},
   "source": [
    "As we can see - we will have a very bad time with our datasets in some cases. So we should forget about dataset:<br>\n",
    "`Mortality rate attributed to unsafe water, unsafe sanitation and lack of hygiene`\n",
    "\n",
    "Also some datasets should be filled, like:<br>\n",
    "`Total alcohol consumption per capita`\n",
    "\n",
    "We will use period, based on the last dataset. `2000-2018`"
   ]
  }
 ],
 "metadata": {
  "kernelspec": {
   "display_name": "Python 3",
   "language": "python",
   "name": "python3"
  },
  "language_info": {
   "codemirror_mode": {
    "name": "ipython",
    "version": 3
   },
   "file_extension": ".py",
   "mimetype": "text/x-python",
   "name": "python",
   "nbconvert_exporter": "python",
   "pygments_lexer": "ipython3",
   "version": "3.10.10"
  },
  "orig_nbformat": 4
 },
 "nbformat": 4,
 "nbformat_minor": 2
}
